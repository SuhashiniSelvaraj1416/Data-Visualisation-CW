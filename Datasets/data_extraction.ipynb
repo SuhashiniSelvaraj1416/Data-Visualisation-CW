{
 "cells": [
  {
   "cell_type": "code",
   "execution_count": 2,
   "metadata": {},
   "outputs": [
    {
     "name": "stderr",
     "output_type": "stream",
     "text": [
      "C:\\Users\\samar\\AppData\\Local\\Temp\\ipykernel_26924\\1711522621.py:12: FutureWarning: The default value of numeric_only in DataFrameGroupBy.mean is deprecated. In a future version, numeric_only will default to False. Either specify numeric_only or select only columns which should be valid for the function.\n",
      "  df_avg = df_filtered.groupby([\"location\",\"continent\"]).mean()\n",
      "C:\\Users\\samar\\AppData\\Roaming\\Python\\Python311\\site-packages\\pandas\\core\\internals\\blocks.py:2323: RuntimeWarning: invalid value encountered in cast\n",
      "  values = values.astype(str)\n"
     ]
    }
   ],
   "source": [
    "import pandas as pd\n",
    "\n",
    "# read the data from URL\n",
    "url = \"https://raw.githubusercontent.com/owid/covid-19-data/master/public/data/owid-covid-data.csv\"\n",
    "df = pd.read_csv(url)\n",
    "\n",
    "# select the required columns\n",
    "df_filtered = df[['iso_code', 'continent', 'location', 'total_cases', 'new_cases', 'total_tests', 'total_vaccinations',\n",
    "           'people_vaccinated', 'total_boosters', 'stringency_index', 'population_density', 'gdp_per_capita']]\n",
    "\n",
    "# group by location and calculate the average for each country\n",
    "df_avg = df_filtered.groupby([\"location\",\"continent\"]).mean()\n",
    "\n",
    "# download the filtered CSV\n",
    "df_avg.to_csv(\"filtered_data.csv\", index=True)"
   ]
  },
  {
   "cell_type": "code",
   "execution_count": 6,
   "metadata": {},
   "outputs": [
    {
     "name": "stderr",
     "output_type": "stream",
     "text": [
      "C:\\Users\\samar\\AppData\\Roaming\\Python\\Python311\\site-packages\\pandas\\core\\internals\\blocks.py:2323: RuntimeWarning: invalid value encountered in cast\n",
      "  values = values.astype(str)\n"
     ]
    }
   ],
   "source": [
    "import pandas as pd\n",
    "\n",
    "# Read the dataset into a pandas dataframe\n",
    "df = pd.read_csv(\"https://raw.githubusercontent.com/SuhashiniSelvaraj1416/Data-Visualisation-CW/main/Datasets/filtered_data.csv\")\n",
    "\n",
    "# List of countries to keep\n",
    "countries_to_keep = ['New Zealand', 'Fiji', 'Tonga', 'Kiribati', 'Tokelau',\n",
    "                     'South Africa', 'Morocco', 'Tanzania', 'Mauritius', 'Uganda',\n",
    "                     'Germany', 'France', 'Italy', 'Spain', 'United Kingdom', 'India',\n",
    "                     'Malaysia', 'China', 'Japan', 'Singapore', 'Antartica',\n",
    "                     'United States', 'Mexico', 'Canada', 'Greenland', 'Bermuda',\n",
    "                     'Brazil', 'Argentina', 'Peru', 'Colombia', 'Paraguay']\n",
    "\n",
    "# Filter the dataframe based on the countries list\n",
    "filtered_df = df[df['location'].isin(countries_to_keep)]\n",
    "\n",
    "# Save the filtered dataframe as a CSV file\n",
    "filtered_df.to_csv(\"Continent_countries total cases.csv\", index=False)"
   ]
  },
  {
   "cell_type": "code",
   "execution_count": 7,
   "metadata": {},
   "outputs": [
    {
     "name": "stderr",
     "output_type": "stream",
     "text": [
      "C:\\Users\\samar\\AppData\\Roaming\\Python\\Python311\\site-packages\\pandas\\core\\internals\\blocks.py:2323: RuntimeWarning: invalid value encountered in cast\n",
      "  values = values.astype(str)\n"
     ]
    }
   ],
   "source": [
    "import pandas as pd\n",
    "\n",
    "# Read the CSV file\n",
    "data = pd.read_csv('https://raw.githubusercontent.com/owid/covid-19-data/master/public/data/owid-covid-data.csv')\n",
    "\n",
    "# filter the columns and drop rows having NaN or null values in these columns\n",
    "columns_to_keep = ['iso_code', 'continent', 'location', 'date','total_cases', 'new_cases', 'total_tests',\n",
    "'total_vaccinations','people_vaccinated', 'total_boosters', 'stringency_index',\n",
    "'population_density', 'gdp_per_capita']\n",
    "selected_columns = ['location', 'date', 'total_vaccinations']\n",
    "data = data[columns_to_keep].fillna(0)\n",
    "\n",
    "# get average of total vaccinations for each location and date\n",
    "df_avg_vaccinations = data[selected_columns].groupby(['location', 'date']).mean().reset_index()\n",
    "\n",
    "# pivot the dataframe to get location as column and date as row index\n",
    "df_pivot = df_avg_vaccinations.pivot(index='date', columns='location', values='total_vaccinations')\n",
    "\n",
    "# Transpose the pivot table to have location as columns, and dates as rows.\n",
    "#df_pivot = df_pivot.transpose()\n",
    "\n",
    "df_pivot.to_csv('filtered_SI4_covid_data.csv')"
   ]
  },
  {
   "cell_type": "code",
   "execution_count": 8,
   "metadata": {},
   "outputs": [
    {
     "name": "stderr",
     "output_type": "stream",
     "text": [
      "C:\\Users\\samar\\AppData\\Roaming\\Python\\Python311\\site-packages\\pandas\\core\\internals\\blocks.py:2323: RuntimeWarning: invalid value encountered in cast\n",
      "  values = values.astype(str)\n"
     ]
    }
   ],
   "source": [
    "import pandas as pd\n",
    "\n",
    "# Read the CSV file\n",
    "data = pd.read_csv('https://raw.githubusercontent.com/owid/covid-19-data/master/public/data/owid-covid-data.csv')\n",
    "\n",
    "# filter the columns and drop rows having NaN or null values in these columns\n",
    "columns_to_keep = ['iso_code', 'continent', 'location', 'date','total_cases', 'new_cases', 'total_tests',\n",
    "'total_vaccinations','people_vaccinated', 'total_boosters', 'stringency_index',\n",
    "'population_density', 'gdp_per_capita']\n",
    "selected_columns = ['location', 'date', 'stringency_index']\n",
    "data = data[columns_to_keep].fillna(0)\n",
    "\n",
    "# get average of total vaccinations for each location and date\n",
    "df_avg_vaccinations = data[selected_columns].groupby(['location', 'date']).mean().reset_index()\n",
    "\n",
    "# pivot the dataframe to get location as column and date as row index\n",
    "df_pivot = df_avg_vaccinations.pivot(index='date', columns='location', values='stringency_index')\n",
    "# Transpose the pivot table to have location as columns, and dates as rows.\n",
    "#df_pivot = df_pivot.transpose()u\n",
    "\n",
    "df_pivot.to_csv('filtered_world8_covid_data.csv')"
   ]
  },
  {
   "cell_type": "code",
   "execution_count": null,
   "metadata": {},
   "outputs": [],
   "source": []
  }
 ],
 "metadata": {
  "kernelspec": {
   "display_name": "Python 3",
   "language": "python",
   "name": "python3"
  },
  "language_info": {
   "codemirror_mode": {
    "name": "ipython",
    "version": 3
   },
   "file_extension": ".py",
   "mimetype": "text/x-python",
   "name": "python",
   "nbconvert_exporter": "python",
   "pygments_lexer": "ipython3",
   "version": "3.11.0"
  },
  "orig_nbformat": 4
 },
 "nbformat": 4,
 "nbformat_minor": 2
}
